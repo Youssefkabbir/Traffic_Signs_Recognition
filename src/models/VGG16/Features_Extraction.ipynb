{
 "cells": [
  {
   "cell_type": "markdown",
   "id": "d724830f-f346-4489-86a6-c741e1a30614",
   "metadata": {},
   "source": [
    "# The first step is to import the required librairies"
   ]
  },
  {
   "cell_type": "code",
   "execution_count": 5,
   "id": "d32c7a2d-dcba-4678-97d5-81339a9950da",
   "metadata": {
    "tags": []
   },
   "outputs": [],
   "source": [
    "\"\"\"pandas is a Python package that provides fast, flexible, and expressive data structures\n",
    "designed to make working with \"relational\" or \"labeled\" data both easy and intuitive.\"\"\"\n",
    "import pandas as pd\n",
    "\"\"\"NumPy is a Python library used for working with arrays.\n",
    "It also has functions for working in domain of linear algebra, fourier transform, and matrices.\"\"\"\n",
    "import numpy as np\n",
    "\"\"\"This module provides a portable way of using operating system dependent functionality. If you\n",
    "just want to read or write a file see open(), if you want to manipulate paths, see the os.path \n",
    "module, and if you want to read all the lines in all the files on the command line see the \n",
    "fileinput module\"\"\"\n",
    "import os\n",
    "\"\"\"The Python Imaging Library adds image processing capabilities to your Python interpreter.\n",
    "This library provides extensive file format support, an efficient internal representation, \n",
    "and fairly powerful image processing capabilities.\"\"\"\n",
    "from PIL import Image"
   ]
  },
  {
   "cell_type": "markdown",
   "id": "385ee22a-d29c-4907-9a92-339c90cd9a64",
   "metadata": {},
   "source": [
    "# we will transform all images of dataset into an array of matrix"
   ]
  },
  {
   "cell_type": "code",
   "execution_count": 6,
   "id": "80b45f49-ea23-4c42-8610-be77eb671d7d",
   "metadata": {
    "tags": []
   },
   "outputs": [
    {
     "name": "stdout",
     "output_type": "stream",
     "text": [
      "the cell was executed without errors\n"
     ]
    }
   ],
   "source": [
    "Path_Data=r\"C:\\Users\\kabir\\Desktop\\Projects\\Traffic_Recognition\\data\\raw\\Train\"\n",
    "Path_Data_1=r\"C:\\Users\\kabir\\Desktop\\Projects\\Traffic_Recognition\\data\\raw\"\n",
    "number_Classes=(len(next(os.walk(Path_Data))[1]))\n",
    "number_Classes\n",
    "data = []\n",
    "labels = []\n",
    "#Retrieving the images and their labels \n",
    "for i in range(number_Classes):\n",
    "    path = os.path.join(Path_Data,str(i))\n",
    "    images = os.listdir(path)\n",
    "\n",
    "    for a in images:\n",
    "        try:\n",
    "            image = Image.open(path + '\\\\'+ a)\n",
    "            image = image.resize((32,32))\n",
    "            image = np.array(image)\n",
    "            data.append(image)\n",
    "            labels.append(i)\n",
    "        except:\n",
    "            print(\"Error loading image\")\n",
    "\n",
    "#Converting lists into numpy arrays\n",
    "data = np.array(data)\n",
    "labels = np.array(labels)\n",
    "print('the cell was executed without errors')\n"
   ]
  },
  {
   "cell_type": "markdown",
   "id": "17dce868-c8b4-44b0-9d99-8ec883f4b3a5",
   "metadata": {},
   "source": [
    "#  Here we are going  to split our Data into train and validation sets"
   ]
  },
  {
   "cell_type": "code",
   "execution_count": 7,
   "id": "6b8078b3-fdd6-434b-ba12-f78c1c08c5e7",
   "metadata": {
    "tags": []
   },
   "outputs": [],
   "source": [
    "Path_Features=r\"C:\\Users\\kabir\\Desktop\\Projects\\Traffic_Recognition\\src\\features\"\n",
    "np.save(os.path.join(Path_Features,\"Features\"),data)\n",
    "np.save(os.path.join(Path_Features,\"labels\"),labels)"
   ]
  },
  {
   "cell_type": "code",
   "execution_count": null,
   "id": "81288688-9dd6-45df-936c-42fabde7411a",
   "metadata": {},
   "outputs": [],
   "source": []
  }
 ],
 "metadata": {
  "kernelspec": {
   "display_name": "Python 3 (ipykernel)",
   "language": "python",
   "name": "python3"
  },
  "language_info": {
   "codemirror_mode": {
    "name": "ipython",
    "version": 3
   },
   "file_extension": ".py",
   "mimetype": "text/x-python",
   "name": "python",
   "nbconvert_exporter": "python",
   "pygments_lexer": "ipython3",
   "version": "3.9.17"
  }
 },
 "nbformat": 4,
 "nbformat_minor": 5
}
