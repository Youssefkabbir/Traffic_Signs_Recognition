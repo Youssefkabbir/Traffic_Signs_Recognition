{
 "cells": [
  {
   "cell_type": "markdown",
   "id": "e3263d9c-d77f-4497-b078-f22a1e1983ed",
   "metadata": {},
   "source": [
    "#                        <p align=\"center\"> **Traffic Signs Recognition** </p>\n"
   ]
  },
  {
   "cell_type": "markdown",
   "id": "0b0c14e9-c2f9-4b70-8665-a3e6bbc4dc66",
   "metadata": {},
   "source": [
    "## 1.The first step is to import required librairies"
   ]
  },
  {
   "cell_type": "code",
   "execution_count": 2,
   "id": "8c7dbc07-03a3-47ee-94ab-29c841e51c47",
   "metadata": {
    "tags": []
   },
   "outputs": [
    {
     "name": "stdout",
     "output_type": "stream",
     "text": [
      "the cell was executed without errors\n"
     ]
    }
   ],
   "source": [
    "\"\"\"pandas is a Python package that provides fast, flexible, and expressive data structures\n",
    "designed to make working with \"relational\" or \"labeled\" data both easy and intuitive.\"\"\"\n",
    "import pandas as pd\n",
    "\"\"\"NumPy is a Python library used for working with arrays.\n",
    "It also has functions for working in domain of linear algebra, fourier transform, and matrices.\"\"\"\n",
    "import numpy as np\n",
    "\n",
    "\"\"\"Matplotlib is a comprehensive library for creating static, animated, and interactive\n",
    "visualizations in Python. Matplotlib makes easy things easy and hard things possible.\"\"\"\n",
    "import  matplotlib.pyplot as plt \n",
    "\"\"\"OpenCV is the huge open-source library for the computer vision, machine learning, and image \n",
    "processing and now it plays a major role in real-time operation which is very important\n",
    "in today’s systems\"\"\"\n",
    "import cv2\n",
    "\"\"\"This module provides a portable way of using operating system dependent functionality. If you\n",
    "just want to read or write a file see open(), if you want to manipulate paths, see the os.path \n",
    "module, and if you want to read all the lines in all the files on the command line see the \n",
    "fileinput module\"\"\"\n",
    "import os\n",
    "\"\"\"The Python Imaging Library adds image processing capabilities to your Python interpreter.\n",
    "This library provides extensive file format support, an efficient internal representation, \n",
    "and fairly powerful image processing capabilities.\"\"\"\n",
    "from PIL import Image\n",
    "\"\"\"scikit-learn is a Python module for machine learning built on top of SciPy and is distributed\n",
    "under the 3-Clause BSD license.\"\"\"\n",
    "from sklearn.model_selection import train_test_split\n",
    "\"\"\"Tensorflow is one of the most-used deep-learning frameworks. It’s arguably the most popular\n",
    "machine learning platform on the web, with a broad range of users from those just starting out, \n",
    "to people looking for an edge in their careers and businesses. \"\"\"\n",
    "import tensorflow as tf \n",
    "from tensorflow.keras.utils import  to_categorical\n",
    "from tensorflow.keras.models import Sequential ,load_model\n",
    "from tensorflow.keras.layers import Conv2D,MaxPool2D,Dense ,Flatten,Dropout\n",
    "print('the cell was executed without errors')"
   ]
  },
  {
   "cell_type": "markdown",
   "id": "980e4aaf-3d0e-4630-b874-847ebae49b1a",
   "metadata": {},
   "source": [
    "## 2. Load the dataset"
   ]
  },
  {
   "cell_type": "code",
   "execution_count": 3,
   "id": "fad32254-6db3-410a-be85-8229e0175231",
   "metadata": {
    "tags": []
   },
   "outputs": [
    {
     "name": "stdout",
     "output_type": "stream",
     "text": [
      "the cell was executed without errors\n"
     ]
    }
   ],
   "source": [
    "data = []\n",
    "labels = []\n",
    "classes = 43\n",
    "Path_data=r'C:\\Users\\kabir\\Desktop\\Projects\\Traffic_Recognition\\data\\raw'\n",
    "\n",
    "#Retrieving the images and their labels \n",
    "for i in range(classes):\n",
    "    path = os.path.join(Path_data,'Train',str(i))\n",
    "    images = os.listdir(path)\n",
    "\n",
    "    for a in images:\n",
    "        try:\n",
    "            image = Image.open(path + '\\\\'+ a)\n",
    "            image = image.resize((30,30))\n",
    "            image = np.array(image)\n",
    "            data.append(image)\n",
    "            labels.append(i)\n",
    "        except:\n",
    "            print(\"Error loading image\")\n",
    "\n",
    "#Converting lists into numpy arrays\n",
    "data = np.array(data)\n",
    "labels = np.array(labels)\n",
    "print('the cell was executed without errors')"
   ]
  },
  {
   "cell_type": "code",
   "execution_count": 7,
   "id": "edc44d2b-fcfc-4746-8132-094df6e00b99",
   "metadata": {
    "tags": []
   },
   "outputs": [
    {
     "name": "stdout",
     "output_type": "stream",
     "text": [
      "(39209, 30, 30, 3)\n",
      "(39209,)\n"
     ]
    }
   ],
   "source": [
    "print(data.shape)\n",
    "print(labels.shape)"
   ]
  },
  {
   "cell_type": "markdown",
   "id": "d85ba4b8-a7d7-40a5-a7d2-47e34d26bb42",
   "metadata": {},
   "source": [
    "# we will split our Dataset into Train Part and  Validation part"
   ]
  },
  {
   "cell_type": "code",
   "execution_count": 4,
   "id": "6b1290aa-f460-4496-85ad-4bdcde5413d3",
   "metadata": {
    "tags": []
   },
   "outputs": [],
   "source": [
    "X_train,X_val,Y_train,Y_val=train_test_split(data,labels,train_size=0.8,random_state=10)"
   ]
  },
  {
   "cell_type": "markdown",
   "id": "4d2edc85-1708-4037-a673-2b25585e7eb1",
   "metadata": {},
   "source": [
    "# Label encoder (Dummy variables)"
   ]
  },
  {
   "cell_type": "code",
   "execution_count": 5,
   "id": "08503f45-009a-4bcc-880b-7af5fb7108e0",
   "metadata": {},
   "outputs": [],
   "source": [
    "Y_train=to_categorical(Y_train,43)"
   ]
  },
  {
   "cell_type": "code",
   "execution_count": 6,
   "id": "c5ac766d-b90b-4d21-a7bd-44bbc6a8fc39",
   "metadata": {},
   "outputs": [],
   "source": [
    "Y_val=to_categorical(Y_val,43)"
   ]
  },
  {
   "cell_type": "markdown",
   "id": "3698829a-3dfd-4cc9-8dd1-d3e91d25fb57",
   "metadata": {},
   "source": [
    "# In this section i will  build our model architecture"
   ]
  },
  {
   "cell_type": "code",
   "execution_count": 12,
   "id": "e2af71ab-b8f8-422a-9543-f970bad58c07",
   "metadata": {
    "tags": []
   },
   "outputs": [
    {
     "name": "stdout",
     "output_type": "stream",
     "text": [
      "Model: \"sequential_1\"\n",
      "_________________________________________________________________\n",
      " Layer (type)                Output Shape              Param #   \n",
      "=================================================================\n",
      " conv2d_4 (Conv2D)           (None, 26, 26, 32)        2432      \n",
      "                                                                 \n",
      " conv2d_5 (Conv2D)           (None, 22, 22, 32)        25632     \n",
      "                                                                 \n",
      " max_pooling2d_2 (MaxPooling  (None, 11, 11, 32)       0         \n",
      " 2D)                                                             \n",
      "                                                                 \n",
      " dropout_3 (Dropout)         (None, 11, 11, 32)        0         \n",
      "                                                                 \n",
      " conv2d_6 (Conv2D)           (None, 9, 9, 64)          18496     \n",
      "                                                                 \n",
      " conv2d_7 (Conv2D)           (None, 7, 7, 64)          36928     \n",
      "                                                                 \n",
      " max_pooling2d_3 (MaxPooling  (None, 3, 3, 64)         0         \n",
      " 2D)                                                             \n",
      "                                                                 \n",
      " dropout_4 (Dropout)         (None, 3, 3, 64)          0         \n",
      "                                                                 \n",
      " flatten_1 (Flatten)         (None, 576)               0         \n",
      "                                                                 \n",
      " dense_2 (Dense)             (None, 256)               147712    \n",
      "                                                                 \n",
      " dropout_5 (Dropout)         (None, 256)               0         \n",
      "                                                                 \n",
      " dense_3 (Dense)             (None, 43)                11051     \n",
      "                                                                 \n",
      "=================================================================\n",
      "Total params: 242,251\n",
      "Trainable params: 242,251\n",
      "Non-trainable params: 0\n",
      "_________________________________________________________________\n",
      "None\n"
     ]
    }
   ],
   "source": [
    "model = Sequential()\n",
    "model.add(Conv2D(filters=32, kernel_size=(5,5), activation='relu', input_shape=X_train.shape[1:]))\n",
    "model.add(Conv2D(filters=32, kernel_size=(5,5), activation='relu'))\n",
    "model.add(MaxPool2D(pool_size=(2, 2)))\n",
    "model.add(Dropout(rate=0.25))\n",
    "model.add(Conv2D(filters=64, kernel_size=(3, 3), activation='relu'))\n",
    "model.add(Conv2D(filters=64, kernel_size=(3, 3), activation='relu'))\n",
    "model.add(MaxPool2D(pool_size=(2, 2)))\n",
    "model.add(Dropout(rate=0.25))\n",
    "model.add(Flatten())\n",
    "model.add(Dense(256, activation='relu'))\n",
    "model.add(Dropout(rate=0.5))\n",
    "model.add(Dense(43, activation='softmax'))\n",
    "#Compilation of the model\n",
    "model.compile(loss='categorical_crossentropy', optimizer='adam', metrics=['accuracy'])\n",
    "epochs = 15\n",
    "print(model.summary())"
   ]
  },
  {
   "cell_type": "code",
   "execution_count": 13,
   "id": "ef1f20ce-0f19-4afb-a9c2-efb1910656d4",
   "metadata": {
    "tags": []
   },
   "outputs": [
    {
     "name": "stdout",
     "output_type": "stream",
     "text": [
      "Epoch 1/15\n",
      "981/981 [==============================] - 21s 7ms/step - loss: 1.7813 - accuracy: 0.5568 - val_loss: 0.4366 - val_accuracy: 0.9296\n",
      "Epoch 2/15\n",
      "981/981 [==============================] - 6s 6ms/step - loss: 0.5116 - accuracy: 0.8585 - val_loss: 0.1259 - val_accuracy: 0.9713\n",
      "Epoch 3/15\n",
      "981/981 [==============================] - 7s 7ms/step - loss: 0.3372 - accuracy: 0.9078 - val_loss: 0.0928 - val_accuracy: 0.9788\n",
      "Epoch 4/15\n",
      "981/981 [==============================] - 7s 7ms/step - loss: 0.3084 - accuracy: 0.9165 - val_loss: 0.0958 - val_accuracy: 0.9795\n",
      "Epoch 5/15\n",
      "981/981 [==============================] - 7s 7ms/step - loss: 0.2528 - accuracy: 0.9320 - val_loss: 0.0653 - val_accuracy: 0.9819\n",
      "Epoch 6/15\n",
      "981/981 [==============================] - 7s 7ms/step - loss: 0.2599 - accuracy: 0.9312 - val_loss: 0.0380 - val_accuracy: 0.9908\n",
      "Epoch 7/15\n",
      "981/981 [==============================] - 7s 7ms/step - loss: 0.2549 - accuracy: 0.9328 - val_loss: 0.0475 - val_accuracy: 0.9875\n",
      "Epoch 8/15\n",
      "981/981 [==============================] - 7s 7ms/step - loss: 0.2152 - accuracy: 0.9418 - val_loss: 0.0592 - val_accuracy: 0.9828\n",
      "Epoch 9/15\n",
      "981/981 [==============================] - 7s 7ms/step - loss: 0.2230 - accuracy: 0.9407 - val_loss: 0.0585 - val_accuracy: 0.9846\n",
      "Epoch 10/15\n",
      "981/981 [==============================] - 7s 7ms/step - loss: 0.1956 - accuracy: 0.9502 - val_loss: 0.0489 - val_accuracy: 0.9864\n",
      "Epoch 11/15\n",
      "981/981 [==============================] - 7s 7ms/step - loss: 0.2475 - accuracy: 0.9368 - val_loss: 0.0488 - val_accuracy: 0.9880\n",
      "Epoch 12/15\n",
      "981/981 [==============================] - 8s 8ms/step - loss: 0.1972 - accuracy: 0.9499 - val_loss: 0.0374 - val_accuracy: 0.9920\n",
      "Epoch 13/15\n",
      "981/981 [==============================] - 7s 7ms/step - loss: 0.2160 - accuracy: 0.9465 - val_loss: 0.0423 - val_accuracy: 0.9904\n",
      "Epoch 14/15\n",
      "981/981 [==============================] - 7s 7ms/step - loss: 0.2149 - accuracy: 0.9476 - val_loss: 0.0552 - val_accuracy: 0.9861\n",
      "Epoch 15/15\n",
      "981/981 [==============================] - 7s 7ms/step - loss: 0.2021 - accuracy: 0.9504 - val_loss: 0.0798 - val_accuracy: 0.9772\n"
     ]
    }
   ],
   "source": [
    "history = model.fit(X_train, Y_train, batch_size=32, epochs=epochs, validation_data=(X_val, Y_val))"
   ]
  },
  {
   "cell_type": "code",
   "execution_count": 25,
   "id": "fceef3a6-17c6-433c-b473-19175128ad0b",
   "metadata": {
    "tags": []
   },
   "outputs": [
    {
     "data": {
      "image/png": "[encoded data removed]",
      "text/plain": [
       "<Figure size 640x480 with 1 Axes>"
      ]
     },
     "metadata": {},
     "output_type": "display_data"
    },
    {
     "data": {
      "image/png": "[encoded data removed]",
      "text/plain": [
       "<Figure size 640x480 with 1 Axes>"
      ]
     },
     "metadata": {},
     "output_type": "display_data"
    }
   ],
   "source": [
    "\n",
    "# summarize history for accuracy\n",
    "plt.plot(history.history['accuracy'])\n",
    "plt.plot(history.history['val_accuracy'])\n",
    "plt.title('model accuracy')\n",
    "plt.ylabel('accuracy')\n",
    "plt.xlabel('epoch')\n",
    "plt.legend(['Train', 'Validation'], loc='upper left')\n",
    "plt.savefig(r\"C:\\Users\\kabir\\Desktop\\Projects\\Traffic_Recognition\\src\\visualization\\Accuracy_1.png\")\n",
    "\n",
    "plt.show()\n",
    "# summarize history for loss\n",
    "plt.plot(history.history['loss'])\n",
    "plt.plot(history.history['val_loss'])\n",
    "plt.title('model loss')\n",
    "plt.ylabel('loss')\n",
    "plt.xlabel('epoch')\n",
    "plt.legend(['Train', 'Validation'], loc='upper left')\n",
    "plt.savefig(r\"C:\\Users\\kabir\\Desktop\\Projects\\Traffic_Recognition\\src\\visualization\\Loss_1.png\")\n",
    "\n",
    "plt.show()"
   ]
  },
  {
   "cell_type": "code",
   "execution_count": 27,
   "id": "7c9b4443-4b39-4d2b-9b8f-ced5b6b82bc7",
   "metadata": {
    "tags": []
   },
   "outputs": [],
   "source": [
    "Path_model=r\"C:\\Users\\kabir\\Desktop\\Projects\\Traffic_Recognition\\models\"\n",
    "#model.save(os.path.join(Path_model,\"Traffic_Sign_CNN_1.h5\"))\n"
   ]
  },
  {
   "cell_type": "code",
   "execution_count": 9,
   "id": "163cf7d1-875f-4d11-871b-a501726dbfc3",
   "metadata": {
    "tags": []
   },
   "outputs": [
    {
     "name": "stdout",
     "output_type": "stream",
     "text": [
      "246/246 [==============================] - 1s 3ms/step\n",
      "Confusion Matrix:\n",
      "[[ 41   4   0 ...   0   0   0]\n",
      " [  0 413   4 ...   0   0   0]\n",
      " [  0   0 423 ...   0   0   0]\n",
      " ...\n",
      " [  0   0   0 ...  80   0   0]\n",
      " [  0   0   0 ...   0  51   0]\n",
      " [  0   0   0 ...   0   0  53]]\n"
     ]
    }
   ],
   "source": [
    "from keras.models import load_model\n",
    "from sklearn.metrics import confusion_matrix\n",
    "\n",
    "Path_model=r\"C:\\Users\\kabir\\Desktop\\Projects\\Traffic_Recognition\\models\"\n",
    "\n",
    "model = load_model(os.path.join(Path_model,\"Traffic_Sign_CNN_1.h5\"))\n",
    "# Predict the test data using the trained model\n",
    "y_pred = model.predict(X_val)\n",
    "\n",
    "# Calculate the confusion matrix of predicted vs actual values\n",
    "matrix = confusion_matrix(Y_val.argmax(axis=1), y_pred.argmax(axis=1))\n",
    "\n",
    "print(\"Confusion Matrix:\")\n",
    "print(matrix)"
   ]
  },
  {
   "cell_type": "code",
   "execution_count": null,
   "id": "3a176ede-36c5-40d4-9b71-a4d57d182a10",
   "metadata": {},
   "outputs": [],
   "source": [
    "import matplotlib.pyplot as plt\n",
    "import numpy as np\n",
    "import itertools\n",
    "\n",
    "def plot_confusion_matrix(cm, target_names, title='Confusion matrix', cmap=None, normalize=False):\n",
    "    \"\"\"\n",
    "    arguments\n",
    "    ---------\n",
    "    cm:           confusion matrix from sklearn.metrics.confusion_matrix\n",
    "\n",
    "    target_names: given classification classes such as [0, 1, 2]\n",
    "                  the class names, for example: ['high', 'medium', 'low']\n",
    "\n",
    "    title:        the text to display at the top of the matrix\n",
    "\n",
    "    cmap:         the gradient of the values displayed from matplotlib.pyplot.cm\n",
    "                  see http://matplotlib.org/examples/color/colormaps_reference.html\n",
    "\n",
    "    normalize:    If False, plot the raw numbers\n",
    "                  If True, plot the proportions\n",
    "    \"\"\"\n",
    "     \n",
    "    if cmap is None:\n",
    "        cmap = plt.get_cmap('Oranges')\n",
    "\n",
    "    plt.figure(figsize=(8, 6))\n",
    "    plt.imshow(cm, interpolation='nearest', cmap=cmap)\n",
    "    plt.title(title)\n",
    "    plt.colorbar()\n",
    "    \n",
    "    if target_names is not None:\n",
    "        tick_marks = np.arange(len(target_names))\n",
    "        plt.xticks(tick_marks, target_names, rotation=45)\n",
    "        plt.yticks(tick_marks, target_names)\n",
    "\n",
    "    if normalize:\n",
    "        cm = cm.astype('float') / cm.sum(axis=1)[:, np.newaxis]\n",
    "\n",
    "\n",
    "    thresh = cm.max() / 1.5 if normalize else cm.max() / 2\n",
    "    for i, j in itertools.product(range(cm.shape[0]), range(cm.shape[1])):\n",
    "        if normalize:\n",
    "            plt.text(j, i, \"{:0.4f}\".format(cm[i, j]),\n",
    "                     horizontalalignment=\"center\",\n",
    "                     color=\"white\" if cm[i, j] > thresh else \"black\")\n",
    "        else:\n",
    "            plt.text(j, i, \"{:,}\".format(cm[i, j]),\n",
    "                     horizontalalignment=\"center\",\n",
    "                     color=\"white\" if cm[i, j] > thresh else \"black\")\n",
    "\n",
    "\n",
    "    plt.tight_layout()\n",
    "    plt.ylim(len(target_names)-0.5, -0.5)\n",
    "    plt.ylabel('True labels')\n",
    "    plt.xlabel('Predicted labels')\n",
    "    plt.savefig(title + '.png', dpi=500, bbox_inches = 'tight')\n",
    "    plt.show()\n",
    "    \n",
    "    \n",
    "    \n",
    "# a tuple for all the class names\n",
    "target_names = ('T-shirt/top', 'Trouser', 'Pullover', 'Dress', 'Coat', \n",
    "                 'Sandal', 'Shirt', 'Sneaker', 'Bag', 'Ankle boot')\n",
    "plot_confusion_matrix(cm, target_names)"
   ]
  },
  {
   "cell_type": "code",
   "execution_count": 28,
   "id": "433b9d4a-b73a-43b1-bf85-d67c78308e3f",
   "metadata": {
    "tags": []
   },
   "outputs": [
    {
     "name": "stdout",
     "output_type": "stream",
     "text": [
      "1/1 [==============================] - 0s 338ms/step\n",
      "Speed limit (30km/h)\n",
      "1/1 [==============================] - 0s 18ms/step\n",
      "Right-of-way at intersection\n",
      "1/1 [==============================] - 0s 18ms/step\n",
      "General caution\n",
      "1/1 [==============================] - 0s 18ms/step\n",
      "No passing\n",
      "1/1 [==============================] - 0s 19ms/step\n",
      "Speed limit (80km/h)\n"
     ]
    }
   ],
   "source": [
    "import tkinter as tk\n",
    "from tkinter import filedialog\n",
    "from tkinter import *\n",
    "from PIL import ImageTk, Image\n",
    "\n",
    "import numpy\n",
    "#load the trained model to classify sign\n",
    "from keras.models import load_model\n",
    "model = load_model(os.path.join(Path_model,\"Traffic_Sign_CNN_1.h5\"))\n",
    "\n",
    "#dictionary to label all traffic signs class.\n",
    "classes = { 1:'Speed limit (20km/h)',\n",
    "            2:'Speed limit (30km/h)', \n",
    "            3:'Speed limit (50km/h)', \n",
    "            4:'Speed limit (60km/h)', \n",
    "            5:'Speed limit (70km/h)', \n",
    "            6:'Speed limit (80km/h)', \n",
    "            7:'End of speed limit (80km/h)', \n",
    "            8:'Speed limit (100km/h)', \n",
    "            9:'Speed limit (120km/h)', \n",
    "            10:'No passing', \n",
    "            11:'No passing veh over 3.5 tons', \n",
    "            12:'Right-of-way at intersection', \n",
    "            13:'Priority road', \n",
    "            14:'Yield', \n",
    "            15:'Stop', \n",
    "            16:'No vehicles', \n",
    "            17:'Veh > 3.5 tons prohibited', \n",
    "            18:'No entry', \n",
    "            19:'General caution', \n",
    "            20:'Dangerous curve left', \n",
    "            21:'Dangerous curve right', \n",
    "            22:'Double curve', \n",
    "            23:'Bumpy road', \n",
    "            24:'Slippery road', \n",
    "            25:'Road narrows on the right', \n",
    "            26:'Road work', \n",
    "            27:'Traffic signals', \n",
    "            28:'Pedestrians', \n",
    "            29:'Children crossing', \n",
    "            30:'Bicycles crossing', \n",
    "            31:'Beware of ice/snow',\n",
    "            32:'Wild animals crossing', \n",
    "            33:'End speed + passing limits', \n",
    "            34:'Turn right ahead', \n",
    "            35:'Turn left ahead', \n",
    "            36:'Ahead only', \n",
    "            37:'Go straight or right', \n",
    "            38:'Go straight or left', \n",
    "            39:'Keep right', \n",
    "            40:'Keep left', \n",
    "            41:'Roundabout mandatory', \n",
    "            42:'End of no passing', \n",
    "            43:'End no passing veh > 3.5 tons' }\n",
    "\n",
    "#initialise GUI\n",
    "top=tk.Tk()\n",
    "top.geometry('800x600')\n",
    "top.title('Traffic sign classification')\n",
    "top.configure(background='#CDCDCD')\n",
    "\n",
    "label=Label(top,background='#CDCDCD', font=('arial',15,'bold'))\n",
    "sign_image = Label(top)\n",
    "\n",
    "def kabir(file_path):\n",
    "    global label_packed\n",
    "    image = Image.open(file_path)\n",
    "    image = image.resize((30,30))\n",
    "    image = numpy.expand_dims(image, axis=0)\n",
    "    image = numpy.array(image)\n",
    "    predict_x=model.predict(image) \n",
    "    classes_x=numpy.argmax(predict_x,axis=1)[0]\n",
    "    sign = classes[classes_x+1]\n",
    "    print(sign)\n",
    "    label.configure(foreground='#011638', text=sign) \n",
    "\n",
    "\n",
    "def show_classify_button(file_path):\n",
    "    classify_b=Button(top,text=\"Classify Image\",command=lambda: kabir(file_path),padx=10,pady=5)\n",
    "    classify_b.configure(background='#364156', foreground='white',font=('arial',10,'bold'))\n",
    "    classify_b.place(relx=0.79,rely=0.46)\n",
    "\n",
    "def upload_image():\n",
    "    try:\n",
    "        file_path=filedialog.askopenfilename()\n",
    "        uploaded=Image.open(file_path)\n",
    "        uploaded.thumbnail(((top.winfo_width()/2.25),(top.winfo_height()/2.25)))\n",
    "        im=ImageTk.PhotoImage(uploaded)\n",
    "\n",
    "        sign_image.configure(image=im)\n",
    "        sign_image.image=im\n",
    "        label.configure(text='')\n",
    "        show_classify_button(file_path)\n",
    "    except:\n",
    "        pass\n",
    "\n",
    "upload=Button(top,text=\"Upload an image\",command=upload_image,padx=10,pady=5)\n",
    "upload.configure(background='#364156', foreground='white',font=('arial',10,'bold'))\n",
    "\n",
    "upload.pack(side=BOTTOM,pady=50)\n",
    "sign_image.pack(side=BOTTOM,expand=True)\n",
    "label.pack(side=BOTTOM,expand=True)\n",
    "heading = Label(top, text=\"Know Your Traffic Sign\",pady=20, font=('arial',20,'bold'))\n",
    "heading.configure(background='#CDCDCD',foreground='#364156')\n",
    "heading.pack()\n",
    "top.mainloop()"
   ]
  },
  {
   "cell_type": "code",
   "execution_count": null,
   "id": "6ef86be1-5157-4d06-8cb5-6c316950d8cd",
   "metadata": {},
   "outputs": [],
   "source": []
  }
 ],
 "metadata": {
  "kernelspec": {
   "display_name": "Python 3 (ipykernel)",
   "language": "python",
   "name": "python3"
  },
  "language_info": {
   "codemirror_mode": {
    "name": "ipython",
    "version": 3
   },
   "file_extension": ".py",
   "mimetype": "text/x-python",
   "name": "python",
   "nbconvert_exporter": "python",
   "pygments_lexer": "ipython3",
   "version": "3.9.17"
  }
 },
 "nbformat": 4,
 "nbformat_minor": 5
}
