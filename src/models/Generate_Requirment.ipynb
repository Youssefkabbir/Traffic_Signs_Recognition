{
 "cells": [
  {
   "cell_type": "code",
   "execution_count": 1,
   "id": "88d0d740-87c6-4b03-b562-4b8a98393477",
   "metadata": {},
   "outputs": [
    {
     "name": "stdout",
     "output_type": "stream",
     "text": [
      "the cell was executed without errors\n"
     ]
    }
   ],
   "source": [
    "\"\"\"pandas is a Python package that provides fast, flexible, and expressive data structures\n",
    "designed to make working with \"relational\" or \"labeled\" data both easy and intuitive.\"\"\"\n",
    "import pandas as pd\n",
    "\"\"\"NumPy is a Python library used for working with arrays.\n",
    "It also has functions for working in domain of linear algebra, fourier transform, and matrices.\"\"\"\n",
    "import numpy as np\n",
    "\n",
    "\"\"\"Matplotlib is a comprehensive library for creating static, animated, and interactive\n",
    "visualizations in Python. Matplotlib makes easy things easy and hard things possible.\"\"\"\n",
    "import  matplotlib.pyplot as plt \n",
    "\"\"\"OpenCV is the huge open-source library for the computer vision, machine learning, and image \n",
    "processing and now it plays a major role in real-time operation which is very important\n",
    "in today’s systems\"\"\"\n",
    "import cv2\n",
    "\"\"\"This module provides a portable way of using operating system dependent functionality. If you\n",
    "just want to read or write a file see open(), if you want to manipulate paths, see the os.path \n",
    "module, and if you want to read all the lines in all the files on the command line see the \n",
    "fileinput module\"\"\"\n",
    "import os\n",
    "\"\"\"The Python Imaging Library adds image processing capabilities to your Python interpreter.\n",
    "This library provides extensive file format support, an efficient internal representation, \n",
    "and fairly powerful image processing capabilities.\"\"\"\n",
    "from PIL import Image\n",
    "\"\"\"scikit-learn is a Python module for machine learning built on top of SciPy and is distributed\n",
    "under the 3-Clause BSD license.\"\"\"\n",
    "from sklearn.model_selection import train_test_split\n",
    "\"\"\"Tensorflow is one of the most-used deep-learning frameworks. It’s arguably the most popular\n",
    "machine learning platform on the web, with a broad range of users from those just starting out, \n",
    "to people looking for an edge in their careers and businesses. \"\"\"\n",
    "import tensorflow as tf \n",
    "from tensorflow.keras.utils import  to_categorical\n",
    "from tensorflow.keras.models import Sequential ,load_model\n",
    "from tensorflow.keras.layers import Conv2D,MaxPool2D,Dense ,Flatten,Dropout\n",
    "print('the cell was executed without errors')"
   ]
  },
  {
   "cell_type": "code",
   "execution_count": 6,
   "id": "1340c63c-5f09-429b-8dc5-0207ad7a5665",
   "metadata": {},
   "outputs": [
    {
     "data": {
      "text/html": [
       "<details>\n",
       "<summary>Click to view session information</summary>\n",
       "<pre>\n",
       "-----\n",
       "PIL                 10.0.0\n",
       "cv2                 4.8.0\n",
       "keras               2.10.0\n",
       "matplotlib          3.7.2\n",
       "numpy               1.25.2\n",
       "pandas              2.0.3\n",
       "session_info        1.0.0\n",
       "sklearn             1.3.0\n",
       "tensorflow          2.10.0\n",
       "-----\n",
       "</pre>\n",
       "<details>\n",
       "<summary>Click to view modules imported as dependencies</summary>\n",
       "<pre>\n",
       "aa8f2297d25b4dc6fd3d98411eb3ba53823c4f42    NA\n",
       "absl                                        NA\n",
       "anyio                                       NA\n",
       "arrow                                       1.2.3\n",
       "asttokens                                   NA\n",
       "astunparse                                  1.6.3\n",
       "attr                                        23.1.0\n",
       "attrs                                       23.1.0\n",
       "babel                                       2.12.1\n",
       "backcall                                    0.2.0\n",
       "brotli                                      1.1.0\n",
       "certifi                                     2023.07.22\n",
       "cffi                                        1.15.1\n",
       "chardet                                     5.2.0\n",
       "charset_normalizer                          3.2.0\n",
       "colorama                                    0.4.6\n",
       "comm                                        0.1.4\n",
       "cycler                                      0.10.0\n",
       "cython_runtime                              NA\n",
       "dateutil                                    2.8.2\n",
       "debugpy                                     1.6.8\n",
       "decorator                                   5.1.1\n",
       "defusedxml                                  0.7.1\n",
       "dill                                        0.3.7\n",
       "entrypoints                                 0.4\n",
       "exceptiongroup                              1.1.3\n",
       "executing                                   1.2.0\n",
       "fastjsonschema                              NA\n",
       "flatbuffers                                 23.5.26\n",
       "fqdn                                        NA\n",
       "gast                                        NA\n",
       "google                                      NA\n",
       "h5py                                        3.9.0\n",
       "idna                                        3.4\n",
       "importlib_metadata                          NA\n",
       "importlib_resources                         NA\n",
       "ipykernel                                   6.25.2\n",
       "ipython_genutils                            0.2.0\n",
       "isoduration                                 NA\n",
       "jedi                                        0.18.2\n",
       "jinja2                                      3.1.2\n",
       "joblib                                      1.3.2\n",
       "json5                                       NA\n",
       "jsonpointer                                 2.0\n",
       "jsonschema                                  4.19.0\n",
       "jsonschema_specifications                   NA\n",
       "jupyter_events                              0.7.0\n",
       "jupyter_server                              2.7.3\n",
       "jupyterlab_server                           2.24.0\n",
       "kiwisolver                                  1.4.5\n",
       "markupsafe                                  2.1.3\n",
       "mpl_toolkits                                NA\n",
       "nbformat                                    5.9.2\n",
       "nt                                          NA\n",
       "opt_einsum                                  v3.3.0\n",
       "overrides                                   NA\n",
       "packaging                                   23.1\n",
       "parso                                       0.8.3\n",
       "pickleshare                                 0.7.5\n",
       "pkg_resources                               NA\n",
       "platformdirs                                3.10.0\n",
       "prometheus_client                           NA\n",
       "prompt_toolkit                              3.0.39\n",
       "psutil                                      5.9.5\n",
       "pure_eval                                   0.2.2\n",
       "pydev_ipython                               NA\n",
       "pydevconsole                                NA\n",
       "pydevd                                      2.9.5\n",
       "pydevd_file_utils                           NA\n",
       "pydevd_plugins                              NA\n",
       "pydevd_tracing                              NA\n",
       "pygments                                    2.16.1\n",
       "pyparsing                                   3.0.9\n",
       "pythoncom                                   NA\n",
       "pythonjsonlogger                            NA\n",
       "pytz                                        2023.3\n",
       "pywintypes                                  NA\n",
       "referencing                                 NA\n",
       "requests                                    2.31.0\n",
       "rfc3339_validator                           0.1.4\n",
       "rfc3986_validator                           0.1.1\n",
       "rpds                                        NA\n",
       "scipy                                       1.11.2\n",
       "send2trash                                  NA\n",
       "setuptools                                  68.1.2\n",
       "six                                         1.16.0\n",
       "sniffio                                     1.3.0\n",
       "socks                                       1.7.1\n",
       "sphinxcontrib                               NA\n",
       "stack_data                                  0.6.2\n",
       "tensorboard                                 2.10.1\n",
       "termcolor                                   NA\n",
       "threadpoolctl                               3.2.0\n",
       "tornado                                     6.3.3\n",
       "traitlets                                   5.9.0\n",
       "typing_extensions                           NA\n",
       "uri_template                                NA\n",
       "urllib3                                     2.0.4\n",
       "wcwidth                                     0.2.6\n",
       "webcolors                                   1.13\n",
       "websocket                                   1.6.2\n",
       "win32api                                    NA\n",
       "win32com                                    NA\n",
       "win32con                                    NA\n",
       "win32trace                                  NA\n",
       "winerror                                    NA\n",
       "wrapt                                       1.15.0\n",
       "yaml                                        6.0.1\n",
       "zipp                                        NA\n",
       "zmq                                         24.0.1\n",
       "zoneinfo                                    NA\n",
       "zope                                        NA\n",
       "</pre>\n",
       "</details> <!-- seems like this ends pre, so might as well be explicit -->\n",
       "<pre>\n",
       "-----\n",
       "IPython             8.15.0\n",
       "jupyter_client      7.4.9\n",
       "jupyter_core        5.3.1\n",
       "jupyterlab          3.6.3\n",
       "notebook            6.5.4\n",
       "-----\n",
       "Python 3.9.17 (main, Jul  5 2023, 20:47:11) [MSC v.1916 64 bit (AMD64)]\n",
       "Windows-10-10.0.22621-SP0\n",
       "-----\n",
       "Session information updated at 2023-09-05 12:18\n",
       "</pre>\n",
       "</details>"
      ],
      "text/plain": [
       "<IPython.core.display.HTML object>"
      ]
     },
     "execution_count": 6,
     "metadata": {},
     "output_type": "execute_result"
    }
   ],
   "source": [
    "import session_info\n",
    "Packages=session_info.show()\n",
    "Packages"
   ]
  },
  {
   "cell_type": "code",
   "execution_count": 7,
   "id": "697c3e27-1927-4862-b71f-d896dce1f402",
   "metadata": {},
   "outputs": [],
   "source": [
    "Packages=\"\"\"PIL                 10.0.0\n",
    "cv2                 4.8.0\n",
    "keras               2.10.0\n",
    "matplotlib          3.7.2\n",
    "numpy               1.25.2\n",
    "pandas              2.0.3\n",
    "session_info        1.0.0\n",
    "sklearn             1.3.0\n",
    "tensorflow          2.10.0\n",
    "\"\"\"\n"
   ]
  },
  {
   "cell_type": "code",
   "execution_count": 8,
   "id": "546037dc-c09e-4d35-9625-fc321ffb583c",
   "metadata": {
    "tags": []
   },
   "outputs": [
    {
     "data": {
      "text/plain": [
       "['PIL                 10.0.0',\n",
       " 'cv2                 4.8.0',\n",
       " 'keras               2.10.0',\n",
       " 'matplotlib          3.7.2',\n",
       " 'numpy               1.25.2',\n",
       " 'pandas              2.0.3',\n",
       " 'session_info        1.0.0',\n",
       " 'sklearn             1.3.0',\n",
       " 'tensorflow          2.10.0']"
      ]
     },
     "execution_count": 8,
     "metadata": {},
     "output_type": "execute_result"
    }
   ],
   "source": [
    "PackagesL=Packages.splitlines()\n",
    "PackagesL"
   ]
  },
  {
   "cell_type": "code",
   "execution_count": 9,
   "id": "4d6070c1-6ce2-406d-a6d7-1de33f9b41d5",
   "metadata": {
    "tags": []
   },
   "outputs": [
    {
     "name": "stdout",
     "output_type": "stream",
     "text": [
      "PIL==10.0.0\n",
      "cv2==4.8.0\n",
      "keras==2.10.0\n",
      "matplotlib==3.7.2\n",
      "numpy==1.25.2\n",
      "pandas==2.0.3\n",
      "session_info==1.0.0\n",
      "sklearn==1.3.0\n",
      "tensorflow==2.10.0\n",
      "\n"
     ]
    }
   ],
   "source": [
    "f1 = \"\"\n",
    "\n",
    "for i in PackagesL:\n",
    "    i=\" \".join(i.split())\n",
    "    i=i.replace(\" \",\"==\")\n",
    "\n",
    "    f1 += str(i)+ \"\\n\" \n",
    "\n",
    "print(f1)"
   ]
  },
  {
   "cell_type": "code",
   "execution_count": 10,
   "id": "dbff19bd-fbab-4888-9707-6c690bf280bd",
   "metadata": {
    "tags": []
   },
   "outputs": [
    {
     "name": "stdout",
     "output_type": "stream",
     "text": [
      "137\n"
     ]
    }
   ],
   "source": [
    "file = open(r\"C:\\Users\\kabir\\Desktop\\Projects\\Traffic_Recognition\\requirements.txt\", \"w\")\n",
    "a = file.write(f1)\n",
    "file.close()\n",
    "print(a)"
   ]
  },
  {
   "cell_type": "code",
   "execution_count": null,
   "id": "2995f8fe-9e1a-4cf7-b281-a7f070213d3d",
   "metadata": {},
   "outputs": [],
   "source": []
  }
 ],
 "metadata": {
  "kernelspec": {
   "display_name": "Python 3 (ipykernel)",
   "language": "python",
   "name": "python3"
  },
  "language_info": {
   "codemirror_mode": {
    "name": "ipython",
    "version": 3
   },
   "file_extension": ".py",
   "mimetype": "text/x-python",
   "name": "python",
   "nbconvert_exporter": "python",
   "pygments_lexer": "ipython3",
   "version": "3.9.17"
  }
 },
 "nbformat": 4,
 "nbformat_minor": 5
}
